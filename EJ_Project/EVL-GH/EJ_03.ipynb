{
 "cells": [
  {
   "cell_type": "code",
   "execution_count": 1,
   "id": "07b00f80",
   "metadata": {},
   "outputs": [],
   "source": [
    "import altair as alt\n",
    "from IPython.display import display\n",
    "from vega_datasets import data\n",
    "from shapely.geometry import Point,LineString,Polygon\n",
    "import geopandas as gpd\n",
    "import json\n",
    "import pandas as pd\n",
    "import matplotlib.pyplot as plt\n",
    "import random\n",
    "from shapely.geometry import shape, mapping"
   ]
  },
  {
   "cell_type": "code",
   "execution_count": 7,
   "id": "54f07fdd",
   "metadata": {},
   "outputs": [
    {
     "ename": "SchemaValidationError",
     "evalue": "`ViewConfig` has no parameter named 'usermeta'\n\nExisting parameter names are:\nclip               cursor           fillOpacity   strokeCap          strokeMiterLimit   \ncontinuousHeight   discreteHeight   opacity       strokeDash         strokeOpacity      \ncontinuousWidth    discreteWidth    step          strokeDashOffset   strokeWidth        \ncornerRadius       fill             stroke        strokeJoin                            \n\nSee the help for `ViewConfig` to read the full description of these parameters",
     "output_type": "error",
     "traceback": [
      "\u001b[1;31m---------------------------------------------------------------------------\u001b[0m",
      "\u001b[1;31mSchemaValidationError\u001b[0m                     Traceback (most recent call last)",
      "Cell \u001b[1;32mIn[7], line 48\u001b[0m\n\u001b[0;32m     38\u001b[0m chart \u001b[38;5;241m=\u001b[39m alt\u001b[38;5;241m.\u001b[39mChart(alt\u001b[38;5;241m.\u001b[39mData(values\u001b[38;5;241m=\u001b[39mdata))\u001b[38;5;241m.\u001b[39mmark_bar()\u001b[38;5;241m.\u001b[39mencode(\n\u001b[0;32m     39\u001b[0m     y\u001b[38;5;241m=\u001b[39malt\u001b[38;5;241m.\u001b[39mY(\u001b[38;5;124m'\u001b[39m\u001b[38;5;124mname:N\u001b[39m\u001b[38;5;124m'\u001b[39m),\n\u001b[0;32m     40\u001b[0m     x\u001b[38;5;241m=\u001b[39malt\u001b[38;5;241m.\u001b[39mX(\u001b[38;5;124m'\u001b[39m\u001b[38;5;124mvalue:Q\u001b[39m\u001b[38;5;124m'\u001b[39m),\n\u001b[1;32m   (...)\u001b[0m\n\u001b[0;32m     44\u001b[0m     height\u001b[38;5;241m=\u001b[39m\u001b[38;5;241m400\u001b[39m\n\u001b[0;32m     45\u001b[0m )\n\u001b[0;32m     47\u001b[0m \u001b[38;5;66;03m# Add the SVG definitions to the chart\u001b[39;00m\n\u001b[1;32m---> 48\u001b[0m chart \u001b[38;5;241m=\u001b[39m chart\u001b[38;5;241m.\u001b[39mconfigure_view(\n\u001b[0;32m     49\u001b[0m     usermeta\u001b[38;5;241m=\u001b[39m{\u001b[38;5;124m'\u001b[39m\u001b[38;5;124membedOptions\u001b[39m\u001b[38;5;124m'\u001b[39m: {\u001b[38;5;124m'\u001b[39m\u001b[38;5;124mloader\u001b[39m\u001b[38;5;124m'\u001b[39m: {\u001b[38;5;124m'\u001b[39m\u001b[38;5;124mtarget\u001b[39m\u001b[38;5;124m'\u001b[39m: \u001b[38;5;124m'\u001b[39m\u001b[38;5;124m_blank\u001b[39m\u001b[38;5;124m'\u001b[39m, \u001b[38;5;124m'\u001b[39m\u001b[38;5;124msvg\u001b[39m\u001b[38;5;124m'\u001b[39m: svg_defs}}}\n\u001b[0;32m     50\u001b[0m )\n\u001b[0;32m     52\u001b[0m \u001b[38;5;66;03m# Display the chart\u001b[39;00m\n\u001b[0;32m     53\u001b[0m chart\n",
      "File \u001b[1;32m~\\anaconda3\\Lib\\site-packages\\altair\\vegalite\\v5\\schema\\mixins.py:1301\u001b[0m, in \u001b[0;36mConfigMethodMixin.configure_view\u001b[1;34m(self, *args, **kwargs)\u001b[0m\n\u001b[0;32m   1299\u001b[0m \u001b[38;5;28;01mif\u001b[39;00m copy\u001b[38;5;241m.\u001b[39mconfig \u001b[38;5;129;01mis\u001b[39;00m Undefined:\n\u001b[0;32m   1300\u001b[0m     copy\u001b[38;5;241m.\u001b[39mconfig \u001b[38;5;241m=\u001b[39m core\u001b[38;5;241m.\u001b[39mConfig()\n\u001b[1;32m-> 1301\u001b[0m copy\u001b[38;5;241m.\u001b[39mconfig[\u001b[38;5;124m\"\u001b[39m\u001b[38;5;124mview\u001b[39m\u001b[38;5;124m\"\u001b[39m] \u001b[38;5;241m=\u001b[39m core\u001b[38;5;241m.\u001b[39mViewConfig(\u001b[38;5;241m*\u001b[39margs, \u001b[38;5;241m*\u001b[39m\u001b[38;5;241m*\u001b[39mkwargs)\n\u001b[0;32m   1302\u001b[0m \u001b[38;5;28;01mreturn\u001b[39;00m copy\n",
      "File \u001b[1;32m~\\anaconda3\\Lib\\site-packages\\altair\\vegalite\\v5\\schema\\core.py:21854\u001b[0m, in \u001b[0;36mViewConfig.__init__\u001b[1;34m(self, clip, continuousHeight, continuousWidth, cornerRadius, cursor, discreteHeight, discreteWidth, fill, fillOpacity, opacity, step, stroke, strokeCap, strokeDash, strokeDashOffset, strokeJoin, strokeMiterLimit, strokeOpacity, strokeWidth, **kwds)\u001b[0m\n\u001b[0;32m  21848\u001b[0m \u001b[38;5;28;01mdef\u001b[39;00m \u001b[38;5;21m__init__\u001b[39m(\u001b[38;5;28mself\u001b[39m, clip\u001b[38;5;241m=\u001b[39mUndefined, continuousHeight\u001b[38;5;241m=\u001b[39mUndefined, continuousWidth\u001b[38;5;241m=\u001b[39mUndefined,\n\u001b[0;32m  21849\u001b[0m              cornerRadius\u001b[38;5;241m=\u001b[39mUndefined, cursor\u001b[38;5;241m=\u001b[39mUndefined, discreteHeight\u001b[38;5;241m=\u001b[39mUndefined,\n\u001b[0;32m  21850\u001b[0m              discreteWidth\u001b[38;5;241m=\u001b[39mUndefined, fill\u001b[38;5;241m=\u001b[39mUndefined, fillOpacity\u001b[38;5;241m=\u001b[39mUndefined, opacity\u001b[38;5;241m=\u001b[39mUndefined,\n\u001b[0;32m  21851\u001b[0m              step\u001b[38;5;241m=\u001b[39mUndefined, stroke\u001b[38;5;241m=\u001b[39mUndefined, strokeCap\u001b[38;5;241m=\u001b[39mUndefined, strokeDash\u001b[38;5;241m=\u001b[39mUndefined,\n\u001b[0;32m  21852\u001b[0m              strokeDashOffset\u001b[38;5;241m=\u001b[39mUndefined, strokeJoin\u001b[38;5;241m=\u001b[39mUndefined, strokeMiterLimit\u001b[38;5;241m=\u001b[39mUndefined,\n\u001b[0;32m  21853\u001b[0m              strokeOpacity\u001b[38;5;241m=\u001b[39mUndefined, strokeWidth\u001b[38;5;241m=\u001b[39mUndefined, \u001b[38;5;241m*\u001b[39m\u001b[38;5;241m*\u001b[39mkwds):\n\u001b[1;32m> 21854\u001b[0m     \u001b[38;5;28msuper\u001b[39m(ViewConfig, \u001b[38;5;28mself\u001b[39m)\u001b[38;5;241m.\u001b[39m\u001b[38;5;21m__init__\u001b[39m(clip\u001b[38;5;241m=\u001b[39mclip, continuousHeight\u001b[38;5;241m=\u001b[39mcontinuousHeight,\n\u001b[0;32m  21855\u001b[0m                                      continuousWidth\u001b[38;5;241m=\u001b[39mcontinuousWidth, cornerRadius\u001b[38;5;241m=\u001b[39mcornerRadius,\n\u001b[0;32m  21856\u001b[0m                                      cursor\u001b[38;5;241m=\u001b[39mcursor, discreteHeight\u001b[38;5;241m=\u001b[39mdiscreteHeight,\n\u001b[0;32m  21857\u001b[0m                                      discreteWidth\u001b[38;5;241m=\u001b[39mdiscreteWidth, fill\u001b[38;5;241m=\u001b[39mfill,\n\u001b[0;32m  21858\u001b[0m                                      fillOpacity\u001b[38;5;241m=\u001b[39mfillOpacity, opacity\u001b[38;5;241m=\u001b[39mopacity, step\u001b[38;5;241m=\u001b[39mstep,\n\u001b[0;32m  21859\u001b[0m                                      stroke\u001b[38;5;241m=\u001b[39mstroke, strokeCap\u001b[38;5;241m=\u001b[39mstrokeCap, strokeDash\u001b[38;5;241m=\u001b[39mstrokeDash,\n\u001b[0;32m  21860\u001b[0m                                      strokeDashOffset\u001b[38;5;241m=\u001b[39mstrokeDashOffset, strokeJoin\u001b[38;5;241m=\u001b[39mstrokeJoin,\n\u001b[0;32m  21861\u001b[0m                                      strokeMiterLimit\u001b[38;5;241m=\u001b[39mstrokeMiterLimit, strokeOpacity\u001b[38;5;241m=\u001b[39mstrokeOpacity,\n\u001b[0;32m  21862\u001b[0m                                      strokeWidth\u001b[38;5;241m=\u001b[39mstrokeWidth, \u001b[38;5;241m*\u001b[39m\u001b[38;5;241m*\u001b[39mkwds)\n",
      "File \u001b[1;32m~\\anaconda3\\Lib\\site-packages\\altair\\utils\\schemapi.py:776\u001b[0m, in \u001b[0;36mSchemaBase.__init__\u001b[1;34m(self, *args, **kwds)\u001b[0m\n\u001b[0;32m    773\u001b[0m \u001b[38;5;28mobject\u001b[39m\u001b[38;5;241m.\u001b[39m\u001b[38;5;21m__setattr__\u001b[39m(\u001b[38;5;28mself\u001b[39m, \u001b[38;5;124m\"\u001b[39m\u001b[38;5;124m_kwds\u001b[39m\u001b[38;5;124m\"\u001b[39m, kwds)\n\u001b[0;32m    775\u001b[0m \u001b[38;5;28;01mif\u001b[39;00m DEBUG_MODE \u001b[38;5;129;01mand\u001b[39;00m \u001b[38;5;28mself\u001b[39m\u001b[38;5;241m.\u001b[39m_class_is_valid_at_instantiation:\n\u001b[1;32m--> 776\u001b[0m     \u001b[38;5;28mself\u001b[39m\u001b[38;5;241m.\u001b[39mto_dict(validate\u001b[38;5;241m=\u001b[39m\u001b[38;5;28;01mTrue\u001b[39;00m)\n",
      "File \u001b[1;32m~\\anaconda3\\Lib\\site-packages\\altair\\utils\\schemapi.py:983\u001b[0m, in \u001b[0;36mSchemaBase.to_dict\u001b[1;34m(self, validate, ignore, context)\u001b[0m\n\u001b[0;32m    976\u001b[0m         \u001b[38;5;28mself\u001b[39m\u001b[38;5;241m.\u001b[39mvalidate(result)\n\u001b[0;32m    977\u001b[0m     \u001b[38;5;28;01mexcept\u001b[39;00m jsonschema\u001b[38;5;241m.\u001b[39mValidationError \u001b[38;5;28;01mas\u001b[39;00m err:\n\u001b[0;32m    978\u001b[0m         \u001b[38;5;66;03m# We do not raise `from err` as else the resulting\u001b[39;00m\n\u001b[0;32m    979\u001b[0m         \u001b[38;5;66;03m# traceback is very long as it contains part\u001b[39;00m\n\u001b[0;32m    980\u001b[0m         \u001b[38;5;66;03m# of the Vega-Lite schema. It would also first\u001b[39;00m\n\u001b[0;32m    981\u001b[0m         \u001b[38;5;66;03m# show the less helpful ValidationError instead of\u001b[39;00m\n\u001b[0;32m    982\u001b[0m         \u001b[38;5;66;03m# the more user friendly SchemaValidationError\u001b[39;00m\n\u001b[1;32m--> 983\u001b[0m         \u001b[38;5;28;01mraise\u001b[39;00m SchemaValidationError(\u001b[38;5;28mself\u001b[39m, err) \u001b[38;5;28;01mfrom\u001b[39;00m \u001b[38;5;28;01mNone\u001b[39;00m\n\u001b[0;32m    984\u001b[0m \u001b[38;5;28;01mreturn\u001b[39;00m result\n",
      "\u001b[1;31mSchemaValidationError\u001b[0m: `ViewConfig` has no parameter named 'usermeta'\n\nExisting parameter names are:\nclip               cursor           fillOpacity   strokeCap          strokeMiterLimit   \ncontinuousHeight   discreteHeight   opacity       strokeDash         strokeOpacity      \ncontinuousWidth    discreteWidth    step          strokeDashOffset   strokeWidth        \ncornerRadius       fill             stroke        strokeJoin                            \n\nSee the help for `ViewConfig` to read the full description of these parameters"
     ]
    }
   ],
   "source": [
    "import altair as alt\n",
    "from vega_datasets import data\n",
    "\n",
    "# Enable the renderer for Jupyter Notebooks\n",
    "alt.renderers.enable('default')\n",
    "\n",
    "# Define your data\n",
    "data = [\n",
    "    {'name': 'A', 'value': 3, 'category': 'W'},\n",
    "    {'name': 'B', 'value': 10, 'category': 'X'},\n",
    "    {'name': 'C', 'value': 7, 'category': 'Y'},\n",
    "    {'name': 'D', 'value': 12, 'category': 'Z'}\n",
    "]\n",
    "\n",
    "# Define the pattern scale\n",
    "pattern_scale = alt.Scale(\n",
    "    domain=['W', 'X', 'Y', 'Z'],\n",
    "    range=['url(#pattern_1)', 'url(#pattern_2)', 'url(#pattern_3)', 'url(#houndstooth)']\n",
    ")\n",
    "\n",
    "# Define the SVG pattern\n",
    "svg_defs = \"\"\"\n",
    "<defs>\n",
    "  <pattern id=\"pattern_1\" patternUnits=\"userSpaceOnUse\" width=\"10\" height=\"10\">\n",
    "    <!-- Define pattern_1 here -->\n",
    "  </pattern>\n",
    "  <pattern id=\"pattern_2\" patternUnits=\"userSpaceOnUse\" width=\"10\" height=\"10\">\n",
    "    <!-- Define pattern_2 here -->\n",
    "  </pattern>\n",
    "  <pattern id=\"pattern_3\" patternUnits=\"userSpaceOnUse\" width=\"10\" height=\"10\">\n",
    "    <!-- Define pattern_3 here -->\n",
    "  </pattern>\n",
    "  <!-- Define other patterns -->\n",
    "</defs>\n",
    "\"\"\"\n",
    "\n",
    "# Create the bar chart\n",
    "chart = alt.Chart(alt.Data(values=data)).mark_bar().encode(\n",
    "    y=alt.Y('name:N'),\n",
    "    x=alt.X('value:Q'),\n",
    "    color=alt.Color('category:N', scale=pattern_scale)\n",
    ").properties(\n",
    "    width=600,\n",
    "    height=400\n",
    ")\n",
    "\n",
    "# Add the SVG definitions to the chart\n",
    "chart = chart.configure_view(\n",
    "    usermeta={'embedOptions': {'loader': {'target': '_blank', 'svg': svg_defs}}}\n",
    ")\n",
    "\n",
    "# Display the chart\n",
    "chart\n"
   ]
  },
  {
   "cell_type": "code",
   "execution_count": null,
   "id": "5d0382b0",
   "metadata": {},
   "outputs": [],
   "source": []
  }
 ],
 "metadata": {
  "kernelspec": {
   "display_name": "Python 3 (ipykernel)",
   "language": "python",
   "name": "python3"
  },
  "language_info": {
   "codemirror_mode": {
    "name": "ipython",
    "version": 3
   },
   "file_extension": ".py",
   "mimetype": "text/x-python",
   "name": "python",
   "nbconvert_exporter": "python",
   "pygments_lexer": "ipython3",
   "version": "3.11.7"
  }
 },
 "nbformat": 4,
 "nbformat_minor": 5
}
